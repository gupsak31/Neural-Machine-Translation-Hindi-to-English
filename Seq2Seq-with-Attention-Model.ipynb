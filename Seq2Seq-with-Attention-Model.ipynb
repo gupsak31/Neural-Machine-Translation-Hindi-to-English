{
  "nbformat": 4,
  "nbformat_minor": 0,
  "metadata": {
    "accelerator": "GPU",
    "colab": {
      "name": "CS779: Seq2Seq with Attention.ipynb",
      "provenance": [],
      "collapsed_sections": []
    },
    "kernelspec": {
      "display_name": "Python 3",
      "name": "python3"
    },
    "language_info": {
      "name": "python"
    }
  },
  "cells": [
    {
      "cell_type": "markdown",
      "metadata": {
        "id": "M-e5SnzdvjZu"
      },
      "source": [
        "# **References**\n",
        "\n",
        "\n",
        "\n",
        "---\n",
        "\n",
        "\n",
        "---\n",
        "\n",
        "Reference Papers:\n",
        "\n",
        "\n",
        "*   Sequence to Sequence Learning with Neural Networks [[link](https://arxiv.org/abs/1409.3215)]\n",
        "*   iNLTK: Natural Language Toolkit for Indic Languages [[link](https://arxiv.org/abs/2009.12534)]\n",
        "*   Learning Phrase Representations using RNN Encoder-Decoder [[link](https://arxiv.org/abs/1406.1078)]\n",
        "*   \"A Passage to India\": Pre-trained Word Embeddings for Indian Languages [[link](https://www.aclweb.org/anthology/2020.sltu-1.49.pdf)]\n",
        "*   Neural Machine Translation by Jointly Learning to Align and Translate [[link](https://arxiv.org/abs/1409.0473)]\n",
        "\n",
        "\n",
        "\n",
        "\n",
        "Reference Tutorials:\n",
        "\n",
        "*   How to use Pre-trained Word Embeddings in PyTorch [[link](https://medium.com/@martinpella/how-to-use-pre-trained-word-embeddings-in-pytorch-71ca59249f76)]\n",
        "*   Mechanics of Seq2seq Models With Attention [[link](https://jalammar.github.io/visualizing-neural-machine-translation-mechanics-of-seq2seq-models-with-attention/)]\n",
        "\n",
        "\n",
        "\n",
        "\n",
        "\n",
        "\n",
        "Reference for Code: [Pytorch Tutorial](https://pytorch.org/tutorials/intermediate/seq2seq_translation_tutorial.html)"
      ]
    },
    {
      "cell_type": "markdown",
      "metadata": {
        "id": "IHd_-CtMwWj4"
      },
      "source": [
        "# **Setup**\n",
        "\n",
        "---\n",
        "\n",
        "\n",
        "\n",
        "\n",
        "*   Connect with Gdrive.\n",
        "*   Download and load libraries/packages."
      ]
    },
    {
      "cell_type": "code",
      "metadata": {
        "id": "HksS36SJ3hXZ"
      },
      "source": [
        "SOS_token = 0\n",
        "EOS_token = 1\n",
        "UKN_token = 2\n",
        "MAX_LENGTH = 500\n",
        "teacher_forcing_ratio = 1\n",
        "N_Epochs = 3\n",
        "NUM_LAYERS = 1"
      ],
      "execution_count": null,
      "outputs": []
    },
    {
      "cell_type": "code",
      "metadata": {
        "colab": {
          "base_uri": "https://localhost:8080/"
        },
        "id": "LMgC3k160Dof",
        "outputId": "2a48fa08-9693-4af7-b0e7-48443c1731c4"
      },
      "source": [
        "from google.colab import drive\n",
        "drive.mount(\"/content/gdrive\")"
      ],
      "execution_count": null,
      "outputs": [
        {
          "output_type": "stream",
          "text": [
            "Mounted at /content/gdrive\n"
          ],
          "name": "stdout"
        }
      ]
    },
    {
      "cell_type": "code",
      "metadata": {
        "colab": {
          "base_uri": "https://localhost:8080/"
        },
        "id": "h5uBZZ6f0Dlr",
        "outputId": "72db4537-7cba-4516-890b-bc5e1c12d98d"
      },
      "source": [
        "%cd gdrive/MyDrive/CS779:\\ Competition"
      ],
      "execution_count": null,
      "outputs": [
        {
          "output_type": "stream",
          "text": [
            "/content/gdrive/MyDrive/CS779: Competition\n"
          ],
          "name": "stdout"
        }
      ]
    },
    {
      "cell_type": "code",
      "metadata": {
        "id": "dSmmWUnS0JqN"
      },
      "source": [
        "import numpy as np\n",
        "import pandas as pd\n",
        "\n",
        "import time\n",
        "import math\n",
        "import random\n",
        "\n",
        "import matplotlib.pyplot as plt\n",
        "plt.switch_backend('agg')\n",
        "import matplotlib.ticker as ticker\n",
        "\n",
        "import warnings\n",
        "warnings.filterwarnings(\"ignore\")\n",
        "\n",
        "import torch\n",
        "import torch.nn as nn\n",
        "from torch import optim\n",
        "import torch.nn.functional as F\n",
        "\n",
        "from sklearn.model_selection import train_test_split"
      ],
      "execution_count": null,
      "outputs": []
    },
    {
      "cell_type": "code",
      "metadata": {
        "id": "oQX7YYbnt8Vi"
      },
      "source": [
        "%matplotlib inline"
      ],
      "execution_count": null,
      "outputs": []
    },
    {
      "cell_type": "code",
      "metadata": {
        "colab": {
          "base_uri": "https://localhost:8080/"
        },
        "id": "NkGxUaysuQZP",
        "outputId": "70964ea7-6250-4137-ece3-4fed9c5dc69e"
      },
      "source": [
        "device = torch.device(\"cuda\" if torch.cuda.is_available() else \"cpu\")\n",
        "print(\"Running on =\", device)"
      ],
      "execution_count": null,
      "outputs": [
        {
          "output_type": "stream",
          "text": [
            "Running on = cuda\n"
          ],
          "name": "stdout"
        }
      ]
    },
    {
      "cell_type": "markdown",
      "metadata": {
        "id": "4OXEOGlDzwbF"
      },
      "source": [
        "Setup SpaCy\n",
        "\n",
        "---\n",
        "\n"
      ]
    },
    {
      "cell_type": "code",
      "metadata": {
        "id": "nszHbSpstKjN"
      },
      "source": [
        "!python3 -m spacy download en >> /dev/null"
      ],
      "execution_count": null,
      "outputs": []
    },
    {
      "cell_type": "code",
      "metadata": {
        "id": "bELTiiLftMV8"
      },
      "source": [
        "import spacy\n",
        "eng = spacy.load(\"en_core_web_sm\")"
      ],
      "execution_count": null,
      "outputs": []
    },
    {
      "cell_type": "markdown",
      "metadata": {
        "id": "-XFDcKexyHAn"
      },
      "source": [
        "Setup indicnlp library\n",
        "\n",
        "---\n",
        "\n"
      ]
    },
    {
      "cell_type": "code",
      "metadata": {
        "id": "uFcugN_1tVws"
      },
      "source": [
        "#### Ony run to download the indic library (first time only) \n",
        "# !git clone https://github.com/anoopkunchukuttan/indic_nlp_library >> /dev/null\n",
        "# !git clone https://github.com/anoopkunchukuttan/indic_nlp_resources.git >> /dev/null"
      ],
      "execution_count": null,
      "outputs": []
    },
    {
      "cell_type": "code",
      "metadata": {
        "id": "WxLSjiPetXl-"
      },
      "source": [
        "!pip install Morfessor >> /dev/null"
      ],
      "execution_count": null,
      "outputs": []
    },
    {
      "cell_type": "code",
      "metadata": {
        "id": "fuRjrZf1tcVV"
      },
      "source": [
        "# The path to the local git repo for Indic NLP library\n",
        "INDIC_NLP_LIB_HOME = \"indic_nlp_library\"\n",
        "\n",
        "# The path to the local git repo for Indic NLP Resources\n",
        "INDIC_NLP_RESOURCES = \"indic_nlp_resources\"\n",
        "\n",
        "# Add Library to Python path\n",
        "import sys\n",
        "sys.path.append(r\"{}\".format(INDIC_NLP_LIB_HOME))\n",
        "\n",
        "# Set environment variable\n",
        "from indicnlp import common\n",
        "common.set_resources_path(INDIC_NLP_RESOURCES)\n",
        "\n",
        "# Initialize the Indic NLP library\n",
        "from indicnlp import loader\n",
        "loader.load()"
      ],
      "execution_count": null,
      "outputs": []
    },
    {
      "cell_type": "code",
      "metadata": {
        "id": "AQCuovAqtev5"
      },
      "source": [
        "from indicnlp.normalize.indic_normalize import IndicNormalizerFactory"
      ],
      "execution_count": null,
      "outputs": []
    },
    {
      "cell_type": "markdown",
      "metadata": {
        "id": "msNAQDKtyWRT"
      },
      "source": [
        "Setup iNLTK library\n",
        "\n",
        "---\n",
        "\n"
      ]
    },
    {
      "cell_type": "code",
      "metadata": {
        "id": "EOeGbX_JthpY"
      },
      "source": [
        "!pip install inltk >> /dev/null"
      ],
      "execution_count": null,
      "outputs": []
    },
    {
      "cell_type": "code",
      "metadata": {
        "colab": {
          "base_uri": "https://localhost:8080/"
        },
        "id": "k73OUxuHthmk",
        "outputId": "9cb65969-bb74-4c09-cb1e-c5414f42a0a6"
      },
      "source": [
        "from inltk.inltk import setup\n",
        "'''\n",
        "Note: Run setup('<code-of-language>') to a language for the FIRST TIME ONLY.\n",
        "This will download all the necessary models required to do inference for that language.\n",
        "'''\n",
        "try:\n",
        "    setup(\"hi\")\n",
        "except:\n",
        "    print(\"Downloading 'hindi' setup... Wait before running next cell!\")"
      ],
      "execution_count": null,
      "outputs": [
        {
          "output_type": "stream",
          "text": [
            "Downloading 'hindi' setup... Wait before running next cell!\n"
          ],
          "name": "stdout"
        }
      ]
    },
    {
      "cell_type": "code",
      "metadata": {
        "id": "hwW51GUptlB3"
      },
      "source": [
        "from inltk.inltk import tokenize as inltk_tokenize"
      ],
      "execution_count": null,
      "outputs": []
    },
    {
      "cell_type": "markdown",
      "metadata": {
        "id": "65GV926stWOS"
      },
      "source": [
        "Setup NLTK library - For evaluation\n",
        "\n",
        "---\n",
        "\n"
      ]
    },
    {
      "cell_type": "code",
      "metadata": {
        "id": "r_St0i1YtWwG"
      },
      "source": [
        "!pip install -U nltk >> /dev/null"
      ],
      "execution_count": null,
      "outputs": []
    },
    {
      "cell_type": "code",
      "metadata": {
        "colab": {
          "base_uri": "https://localhost:8080/"
        },
        "id": "87TPIP4dtnv_",
        "outputId": "dbdff160-7c6d-4cee-d769-703e898386de"
      },
      "source": [
        "import nltk\n",
        "nltk.download('wordnet')\n",
        "\n",
        "from nltk.translate.bleu_score import sentence_bleu\n",
        "from nltk.translate.meteor_score import single_meteor_score"
      ],
      "execution_count": null,
      "outputs": [
        {
          "output_type": "stream",
          "text": [
            "[nltk_data] Downloading package wordnet to /root/nltk_data...\n",
            "[nltk_data]   Unzipping corpora/wordnet.zip.\n"
          ],
          "name": "stderr"
        }
      ]
    },
    {
      "cell_type": "markdown",
      "metadata": {
        "id": "zAM3qEGqwnHn"
      },
      "source": [
        "# **Load Data**\n",
        "\n",
        "\n",
        "---\n",
        "\n",
        "\n",
        "\n",
        "*   Load training data\n",
        "*   Load Embedding matrix, word2index and index2word for Hindi\n",
        "\n",
        "\n",
        "\n",
        "\n",
        "\n",
        "\n"
      ]
    },
    {
      "cell_type": "code",
      "metadata": {
        "colab": {
          "base_uri": "https://localhost:8080/",
          "height": 237
        },
        "id": "6mfhSEtO2n7y",
        "outputId": "ebbb83bd-5075-4472-91ba-4822ea015a19"
      },
      "source": [
        "df = pd.read_csv(\"train/train.csv\")\n",
        "df = df[[\"hindi\", \"english\"]]\n",
        "display(df.head(5))\n",
        "print(\"\\nTotal hindi-english sentence pairs = \", df.shape[0])"
      ],
      "execution_count": null,
      "outputs": [
        {
          "output_type": "display_data",
          "data": {
            "text/html": [
              "<div>\n",
              "<style scoped>\n",
              "    .dataframe tbody tr th:only-of-type {\n",
              "        vertical-align: middle;\n",
              "    }\n",
              "\n",
              "    .dataframe tbody tr th {\n",
              "        vertical-align: top;\n",
              "    }\n",
              "\n",
              "    .dataframe thead th {\n",
              "        text-align: right;\n",
              "    }\n",
              "</style>\n",
              "<table border=\"1\" class=\"dataframe\">\n",
              "  <thead>\n",
              "    <tr style=\"text-align: right;\">\n",
              "      <th></th>\n",
              "      <th>hindi</th>\n",
              "      <th>english</th>\n",
              "    </tr>\n",
              "  </thead>\n",
              "  <tbody>\n",
              "    <tr>\n",
              "      <th>0</th>\n",
              "      <td>एल सालवाडोर मे, जिन दोनो पक्षों ने सिविल-युद्ध...</td>\n",
              "      <td>In El Salvador, both sides that withdrew from ...</td>\n",
              "    </tr>\n",
              "    <tr>\n",
              "      <th>1</th>\n",
              "      <td>मैं उनके साथ कोई लेना देना नहीं है.</td>\n",
              "      <td>I have nothing to do with them.</td>\n",
              "    </tr>\n",
              "    <tr>\n",
              "      <th>2</th>\n",
              "      <td>-हटाओ रिक.</td>\n",
              "      <td>Fuck them, Rick.</td>\n",
              "    </tr>\n",
              "    <tr>\n",
              "      <th>3</th>\n",
              "      <td>क्योंकि यह एक खुशियों भरी फ़िल्म है.</td>\n",
              "      <td>Because it's a happy film.</td>\n",
              "    </tr>\n",
              "    <tr>\n",
              "      <th>4</th>\n",
              "      <td>The thought reaching the eyes...</td>\n",
              "      <td>The thought reaching the eyes...</td>\n",
              "    </tr>\n",
              "  </tbody>\n",
              "</table>\n",
              "</div>"
            ],
            "text/plain": [
              "                                               hindi                                            english\n",
              "0  एल सालवाडोर मे, जिन दोनो पक्षों ने सिविल-युद्ध...  In El Salvador, both sides that withdrew from ...\n",
              "1                मैं उनके साथ कोई लेना देना नहीं है.                    I have nothing to do with them.\n",
              "2                                         -हटाओ रिक.                                   Fuck them, Rick.\n",
              "3               क्योंकि यह एक खुशियों भरी फ़िल्म है.                         Because it's a happy film.\n",
              "4                   The thought reaching the eyes...                   The thought reaching the eyes..."
            ]
          },
          "metadata": {
            "tags": []
          }
        },
        {
          "output_type": "stream",
          "text": [
            "\n",
            "Total hindi-english sentence pairs =  102322\n"
          ],
          "name": "stdout"
        }
      ]
    },
    {
      "cell_type": "code",
      "metadata": {
        "id": "8WXmzA0F2six"
      },
      "source": [
        "# #####################################################################\n",
        "# #### Testing on smaller data\n",
        "# #####################################################################\n",
        "# df = df[:500]"
      ],
      "execution_count": null,
      "outputs": []
    },
    {
      "cell_type": "code",
      "metadata": {
        "id": "GcINzJrH0T-z"
      },
      "source": [
        "my_embeddings = np.load(\"hindi_embeddings.npy\")\n",
        "word2index_npy = np.load(\"word2index.npy\")\n",
        "index2word_npy = np.load(\"index2word.npy\")"
      ],
      "execution_count": null,
      "outputs": []
    },
    {
      "cell_type": "code",
      "metadata": {
        "id": "0a2bgOFnkjN5"
      },
      "source": [
        "hindi_word2index = {}\n",
        "hindi_index2word = {}\n",
        "\n",
        "for i in range(len(word2index_npy)):\n",
        "    hindi_word2index[word2index_npy[i, 0]] = int(word2index_npy[i, 1])\n",
        "\n",
        "for i in range(len(index2word_npy)):\n",
        "    hindi_index2word[int(index2word_npy[i, 0])] = index2word_npy[i, 1]"
      ],
      "execution_count": null,
      "outputs": []
    },
    {
      "cell_type": "markdown",
      "metadata": {
        "id": "Ou-aLgzg16qq"
      },
      "source": [
        "# **Data Normalisation and Pre-processing**\n",
        "\n",
        "---\n",
        "\n",
        "*   Remove nuktas from Hindi sentences.\n",
        "*   Create **embedding matrix** using iNLTK library.\n",
        "\n",
        "\n",
        "\n"
      ]
    },
    {
      "cell_type": "code",
      "metadata": {
        "colab": {
          "base_uri": "https://localhost:8080/"
        },
        "id": "ab8qyHVcBFBX",
        "outputId": "077b883d-84af-45e1-804f-ce7fd4eecb63"
      },
      "source": [
        "factory = IndicNormalizerFactory()\n",
        "normalizer = factory.get_normalizer(\"hi\", remove_nuktas = True)\n",
        "\n",
        "for i, pair in df.iterrows():\n",
        "    df.iloc[i, 0] = normalizer.normalize(pair[0])\n",
        "\n",
        "    if(i != 0 and i%10000 == 0):\n",
        "        print(\"Iterations done =\", i)\n",
        "print(\"...Done\")"
      ],
      "execution_count": null,
      "outputs": [
        {
          "output_type": "stream",
          "text": [
            "Iterations done = 10000\n",
            "Iterations done = 20000\n",
            "Iterations done = 30000\n",
            "Iterations done = 40000\n",
            "Iterations done = 50000\n",
            "Iterations done = 60000\n",
            "Iterations done = 70000\n",
            "Iterations done = 80000\n",
            "Iterations done = 90000\n",
            "Iterations done = 100000\n",
            "...Done\n"
          ],
          "name": "stdout"
        }
      ]
    },
    {
      "cell_type": "code",
      "metadata": {
        "id": "2l9o8QUr0JnS"
      },
      "source": [
        "class Language:\n",
        "    def __init__(self, name):\n",
        "        self.name = name\n",
        "        if (name == \"english\"):\n",
        "            self.n_words = 3  # UKN, SOS and EOS\n",
        "            self.word2index = {\"<sos>\":0, \"<eos>\":1, \"<ukn>\":2}\n",
        "            self.index2word = {0: \"<sos>\", 1: \"<eos>\", 2: \"<ukn>\"}\n",
        "        elif (name == \"hindi\"):\n",
        "            self.n_words = len(hindi_word2index)\n",
        "            self.word2index = hindi_word2index\n",
        "            self.index2word = hindi_index2word\n",
        "\n",
        "    def addSentence(self, sentence):\n",
        "        if (self.name == \"english\"):\n",
        "            tokens = eng(sentence)\n",
        "            for token in tokens:\n",
        "                self.addWord(token.text)\n",
        "\n",
        "    def addWord(self, word):\n",
        "        if word not in self.word2index:\n",
        "            self.word2index[word] = self.n_words\n",
        "            self.index2word[self.n_words] = word\n",
        "            self.n_words += 1"
      ],
      "execution_count": null,
      "outputs": []
    },
    {
      "cell_type": "code",
      "metadata": {
        "id": "vKZfyzZy0Jlq"
      },
      "source": [
        "def readData():\n",
        "    print(\"Reading data...\")\n",
        "    pairs = [[sent for sent in pair] for _, pair in df.iterrows()]\n",
        "    input_lang = Language(\"hindi\")\n",
        "    output_lang = Language(\"english\")\n",
        "\n",
        "    # print(\"Data normalisation...\")\n",
        "    #############################################################################\n",
        "    ### Add normalising techniques\n",
        "    #############################################################################\n",
        "\n",
        "    print(\"Data preprocessing...\")\n",
        "    for i, pair in enumerate(pairs):\n",
        "        output_lang.addSentence(pair[1])\n",
        "\n",
        "        if(i != 0 and i%10000 == 0):\n",
        "            print(\"Iterations done = \", i)\n",
        "    print(\"... Done\")\n",
        "\n",
        "    return input_lang, output_lang, pairs"
      ],
      "execution_count": null,
      "outputs": []
    },
    {
      "cell_type": "code",
      "metadata": {
        "colab": {
          "base_uri": "https://localhost:8080/"
        },
        "id": "dsmkHj_40Jjp",
        "outputId": "c17c2463-e48f-473d-bc58-03f32f9165f2"
      },
      "source": [
        "input_lang, output_lang, pairs = readData()"
      ],
      "execution_count": null,
      "outputs": [
        {
          "output_type": "stream",
          "text": [
            "Reading data...\n",
            "Data preprocessing...\n"
          ],
          "name": "stdout"
        }
      ]
    },
    {
      "cell_type": "markdown",
      "metadata": {
        "id": "JZNx1pQvTjYE"
      },
      "source": [
        "# **Utility Functions**\n",
        "\n",
        "---\n",
        "\n"
      ]
    },
    {
      "cell_type": "code",
      "metadata": {
        "id": "Fv3BnYRiVDlC"
      },
      "source": [
        "def showPlot(points):\n",
        "    plt.figure()\n",
        "    fig, ax = plt.subplots()\n",
        "    loc = ticker.MultipleLocator(base = 0.2)\n",
        "    ax.yaxis.set_major_locator(loc)\n",
        "    plt.plot(points)\n",
        "    plt.show();"
      ],
      "execution_count": null,
      "outputs": []
    },
    {
      "cell_type": "markdown",
      "metadata": {
        "id": "czgIlvyzd1gK"
      },
      "source": [
        "The below cell has utility functions to return a pair of input-ouput tensor.\n",
        "\n",
        "---\n",
        "\n"
      ]
    },
    {
      "cell_type": "code",
      "metadata": {
        "id": "YOBF0LEO-oGd"
      },
      "source": [
        "def indexesFromSentence(lang, sentence):\n",
        "    idx_list = []\n",
        "    if (lang.name == \"english\"):\n",
        "        tokens = eng(sentence)\n",
        "        for token in tokens:\n",
        "            if token.text in lang.word2index:\n",
        "                idx_list.append(lang.word2index[token.text])\n",
        "            else:\n",
        "                idx_list.append(UKN_token)\n",
        "    else:\n",
        "        tokens = inltk_tokenize(sentence, \"hi\")\n",
        "        for token in tokens:\n",
        "                if token in lang.word2index:\n",
        "                    idx_list.append(lang.word2index[token])\n",
        "                else:\n",
        "                    idx_list.append(UKN_token)\n",
        "    idx_list.append(EOS_token)\n",
        "    return idx_list\n",
        "\n",
        "def tensorFromSentence(lang, sentence):\n",
        "    indexes = indexesFromSentence(lang, sentence)\n",
        "    return torch.tensor(indexes, dtype = torch.long, device = device).view(-1, 1)\n",
        "\n",
        "def tensorsFromPair(pair):\n",
        "    return (tensorFromSentence(input_lang, pair[0]), tensorFromSentence(output_lang, pair[1]))"
      ],
      "execution_count": null,
      "outputs": []
    },
    {
      "cell_type": "markdown",
      "metadata": {
        "id": "4gjXKNPoey3a"
      },
      "source": [
        "Split the training data into Train-Validation split. Half the validation data is used as Test data.\n",
        "\n",
        "---\n",
        "\n"
      ]
    },
    {
      "cell_type": "code",
      "metadata": {
        "id": "KyTpeuQI0gzd"
      },
      "source": [
        "#Temporary data\n",
        "data = np.reshape(np.random.randn(2*df.shape[0]),(df.shape[0], 2))\n",
        "labels = np.random.randint(2, size = df.shape[0])\n",
        "X = pd.DataFrame(data, columns = ['Column_1', 'Column_2'])\n",
        "y = pd.Series(labels)\n",
        "X_train, X_test, y_train, y_test = train_test_split(X, y, test_size = 0.1, random_state = 0)"
      ],
      "execution_count": null,
      "outputs": []
    },
    {
      "cell_type": "code",
      "metadata": {
        "id": "RIL_Vii1HRUi"
      },
      "source": [
        "train_indexes = list(X_train.index)\n",
        "test_indexes = list(X_test.index)\n",
        "\n",
        "test_df = df.iloc[test_indexes]\n",
        "train_df = df.iloc[train_indexes]\n",
        "\n",
        "### The below lines \n",
        "# validation_pairs = [tensorsFromPair(list(test_df.iloc[i])) for i in range(test_df.shape[0])]\n",
        "# train_pairs = [[sent for sent in pair] for _, pair in train_df.iterrows()]\n",
        "# train_pairs = [tensorsFromPair(train_pairs[idx]) for idx in range(len(train_pairs))]\n",
        "\n",
        "validation_pairs = torch.load(\"val.pt\")\n",
        "test_pairs = validation_pairs[int(len(validation_pairs)/2):]\n",
        "validation_pairs = validation_pairs[:int(len(validation_pairs)/2)]\n",
        "train_pairs = torch.load(\"train.pt\")"
      ],
      "execution_count": null,
      "outputs": []
    },
    {
      "cell_type": "code",
      "metadata": {
        "id": "d3PAJil-gerq"
      },
      "source": [
        "def inputData(n_iter):\n",
        "    idx = int((n_iter - 1) - train_df.shape[0]*int((n_iter - 1)/train_df.shape[0]))\n",
        "    train = train_pairs[idx]\n",
        "    return train"
      ],
      "execution_count": null,
      "outputs": []
    },
    {
      "cell_type": "code",
      "metadata": {
        "id": "pNo9Ucg24Qo9"
      },
      "source": [
        "class EarlyStopping:\n",
        "    def __init__(self, patience = 10, verbose = True):\n",
        "        self.patience = patience\n",
        "        self.verbose = verbose\n",
        "        self.counter = 0\n",
        "        self.best_score = None\n",
        "        self.early_stop = False\n",
        "        self.val_loss_min = np.Inf\n",
        "\n",
        "    def __call__(self, val_loss, encoder, decoder):\n",
        "\n",
        "        score = -val_loss\n",
        "\n",
        "        if self.best_score is None:\n",
        "            self.best_score = score\n",
        "            self.save_checkpoint(val_loss, encoder, decoder)\n",
        "        elif score < self.best_score:\n",
        "            self.counter += 1\n",
        "            print(f\"EarlyStopping counter: {self.counter} out of {self.patience}\")\n",
        "            if self.counter >= self.patience:\n",
        "                self.early_stop = True\n",
        "        else:\n",
        "            self.best_score = score\n",
        "            self.save_checkpoint(val_loss, encoder, decoder)\n",
        "            self.counter = 0\n",
        "\n",
        "    def save_checkpoint(self, val_loss, encoder, decoder):\n",
        "        '''Saves model when loss decrease.'''\n",
        "        if self.verbose:\n",
        "            print(f\"Validation loss decreased ({self.val_loss_min:.5f} --> {val_loss:.5f}).  Saving model ...\\n\")\n",
        "        torch.save(encoder.state_dict(), \"encoder_bestVal.pt\")\n",
        "        torch.save(decoder.state_dict(), \"decoder_bestVal.pt\")\n",
        "        self.val_loss_min = val_loss"
      ],
      "execution_count": null,
      "outputs": []
    },
    {
      "cell_type": "markdown",
      "metadata": {
        "id": "6GWoGneGU5oD"
      },
      "source": [
        "# **Model**\n",
        "\n",
        "---\n",
        "\n"
      ]
    },
    {
      "cell_type": "code",
      "metadata": {
        "id": "kBfHWOiSBQB5"
      },
      "source": [
        "class Encoder(nn.Module):\n",
        "    def __init__(self, hidden_size, input_vocab = input_lang.n_words, emb_size = 400):\n",
        "        super(Encoder, self).__init__()\n",
        "        self.hidden_size = hidden_size\n",
        "        self.embedding = nn.Embedding(input_vocab, emb_size)\n",
        "        self.embedding.from_pretrained(torch.from_numpy(my_embeddings), freeze = True)\n",
        "        self.gru = nn.GRU(emb_size, hidden_size)\n",
        "\n",
        "    def forward(self, input, hidden):\n",
        "        embedded = self.embedding(input).view(1, 1, -1)\n",
        "        output, hidden = self.gru(embedded, hidden)\n",
        "        return output, hidden\n",
        "\n",
        "    def initHidden(self):\n",
        "        return torch.zeros(1, 1, self.hidden_size, device = device)"
      ],
      "execution_count": null,
      "outputs": []
    },
    {
      "cell_type": "code",
      "metadata": {
        "id": "sLjZrM6oBP_k"
      },
      "source": [
        "class AttnDecoder(nn.Module):\n",
        "    def __init__(self, hidden_size, emb_size = 400, output_vocab = output_lang.n_words, max_length = MAX_LENGTH):\n",
        "        super(AttnDecoder, self).__init__()\n",
        "        self.hidden_size = hidden_size\n",
        "        self.output_vocab = output_vocab\n",
        "        self.max_length = max_length\n",
        "        self.emb_size = emb_size\n",
        "\n",
        "        self.embedding = nn.Embedding(self.output_vocab, self.emb_size)\n",
        "        self.attn = nn.Linear((self.hidden_size + self.emb_size), self.max_length)\n",
        "        self.attn_combine = nn.Linear((self.hidden_size + self.emb_size), self.hidden_size)\n",
        "        self.gru = nn.GRU(self.hidden_size, self.hidden_size)\n",
        "        self.out = nn.Linear(self.hidden_size, self.output_vocab)\n",
        "\n",
        "    def forward(self, input, hidden, encoder_outputs):\n",
        "        embedded = self.embedding(input).view(1, 1, -1)\n",
        "\n",
        "        attn_weights = self.attn(torch.cat((embedded[0], hidden[0]), dim = 1))\n",
        "        attn_weights = F.softmax(attn_weights, dim = 1)\n",
        "\n",
        "        attn_applied = torch.bmm(attn_weights.unsqueeze(0), encoder_outputs.unsqueeze(0))\n",
        "\n",
        "        output = torch.cat((embedded[0], attn_applied[0]), dim = 1)\n",
        "        output = self.attn_combine(output).unsqueeze(0)\n",
        "        output = F.relu(output)\n",
        "\n",
        "        output, hidden = self.gru(output, hidden)\n",
        "        output = F.log_softmax(self.out(output[0]), dim = 1)\n",
        "\n",
        "        return output, hidden, attn_weights\n",
        "\n",
        "    def initHidden(self):\n",
        "        return torch.zeros(1, 1, self.hidden_size, device = device)"
      ],
      "execution_count": null,
      "outputs": []
    },
    {
      "cell_type": "markdown",
      "metadata": {
        "id": "oMu0HL1gVvKR"
      },
      "source": [
        "# **Train**\n",
        "\n",
        "---\n",
        "\n"
      ]
    },
    {
      "cell_type": "code",
      "metadata": {
        "id": "W3iojfyH_2ct"
      },
      "source": [
        "LOSS_FXN = nn.NLLLoss()"
      ],
      "execution_count": null,
      "outputs": []
    },
    {
      "cell_type": "code",
      "metadata": {
        "id": "U-22hz_rBP8_"
      },
      "source": [
        "def train(input_tensor, target_tensor, encoder, decoder, encoder_optimizer, decoder_optimizer, loss_fxn, max_length = MAX_LENGTH):\n",
        "    input_length = input_tensor.size(0)\n",
        "    target_length = target_tensor.size(0)\n",
        "\n",
        "    encoder_optimizer.zero_grad()\n",
        "    decoder_optimizer.zero_grad()\n",
        "\n",
        "    encoder_hidden = encoder.initHidden()\n",
        "    encoder_outputs = torch.zeros(max_length, encoder.hidden_size, device = device)\n",
        "\n",
        "    loss = 0\n",
        "    for ei in range(min(input_length, max_length)):\n",
        "        encoder_output, encoder_hidden = encoder(input_tensor[ei], encoder_hidden)\n",
        "        encoder_outputs[ei] = encoder_output[0, 0]\n",
        "\n",
        "    decoder_input = torch.tensor([[SOS_token]], device = device)\n",
        "    decoder_hidden = encoder_hidden\n",
        "\n",
        "    use_teacher_forcing = True if random.random() < teacher_forcing_ratio else False\n",
        "\n",
        "    if use_teacher_forcing:\n",
        "        # Teacher forcing: Feed the target as the next input\n",
        "        for di in range(target_length):\n",
        "            decoder_output, decoder_hidden, decoder_attention = decoder(decoder_input, decoder_hidden, encoder_outputs)\n",
        "            loss +=  loss_fxn(decoder_output, target_tensor[di])\n",
        "            decoder_input = target_tensor[di]\n",
        "\n",
        "    else:\n",
        "        # Without teacher forcing: use its own predictions as the next input\n",
        "        for di in range(target_length):\n",
        "            decoder_output, decoder_hidden, decoder_attention = decoder(decoder_input, decoder_hidden, encoder_outputs)\n",
        "            loss +=  loss_fxn(decoder_output, target_tensor[di])\n",
        "\n",
        "            topv, topi = decoder_output.topk(1)\n",
        "            decoder_input = topi.squeeze().detach()\n",
        "            if decoder_input.item() == EOS_token:\n",
        "                break\n",
        "\n",
        "    loss.backward()\n",
        "    encoder_optimizer.step()\n",
        "    decoder_optimizer.step()\n",
        "\n",
        "    return loss.item()/target_length"
      ],
      "execution_count": null,
      "outputs": []
    },
    {
      "cell_type": "code",
      "metadata": {
        "id": "pks7O64thOm8"
      },
      "source": [
        "def validate(validation_pairs, encoder, decoder, loss_fxn, max_length = MAX_LENGTH):\n",
        "    with torch.no_grad():\n",
        "        val_loss = 0\n",
        "\n",
        "        for i in range(len(validation_pairs)):\n",
        "            input_tensor = validation_pairs[i][0]\n",
        "            target_tensor = validation_pairs[i][1]\n",
        "\n",
        "            input_length = input_tensor.size(0)\n",
        "            target_length = target_tensor.size(0)\n",
        "\n",
        "            encoder_hidden = encoder.initHidden()\n",
        "            encoder_outputs = torch.zeros(max_length, encoder.hidden_size, device = device)\n",
        "\n",
        "            loss = 0\n",
        "            for ei in range(min(input_length, max_length)):\n",
        "                encoder_output, encoder_hidden = encoder(input_tensor[ei], encoder_hidden)\n",
        "                encoder_outputs[ei] = encoder_output[0, 0]\n",
        "\n",
        "            decoder_input = torch.tensor([[SOS_token]], device = device)\n",
        "            decoder_hidden = encoder_hidden\n",
        "\n",
        "            for di in range(target_length):\n",
        "                decoder_output, decoder_hidden, _ = decoder(decoder_input, decoder_hidden, encoder_outputs)\n",
        "                topv, topi = decoder_output.topk(1)\n",
        "                decoder_input = topi.squeeze().detach()\n",
        "\n",
        "                loss +=  loss_fxn(decoder_output, target_tensor[di])\n",
        "                if decoder_input.item() == EOS_token:\n",
        "                    break\n",
        "\n",
        "        val_loss += loss.item()/target_length\n",
        "\n",
        "    return val_loss"
      ],
      "execution_count": null,
      "outputs": []
    },
    {
      "cell_type": "code",
      "metadata": {
        "id": "KYYxPXGzLo6-"
      },
      "source": [
        "def trainIters(encoder, decoder, n_iters = 0, print_every = 1000, plot_every = 100, val_every = 1, learning_rate = 0.01):\n",
        "    print_loss_total = 0\n",
        "    plot_loss_total = 0\n",
        "    min_loss = np.Inf\n",
        "    plot_losses = []\n",
        "\n",
        "    encoder_optimizer = optim.SGD(encoder.parameters(), lr = learning_rate)\n",
        "    decoder_optimizer = optim.SGD(decoder.parameters(), lr = learning_rate)\n",
        "\n",
        "    loss_fxn = LOSS_FXN\n",
        "    early_stopping = EarlyStopping(patience = 3, verbose = True)\n",
        "\n",
        "    for iter in range(1, n_iters + 1):\n",
        "        training_pair = inputData(iter)\n",
        "\n",
        "        input_tensor = training_pair[0].to(device)\n",
        "        target_tensor = training_pair[1].to(device)\n",
        "\n",
        "        loss = train(input_tensor, target_tensor, encoder, decoder, encoder_optimizer, decoder_optimizer, loss_fxn)\n",
        "        print_loss_total += loss\n",
        "        plot_loss_total += loss\n",
        "\n",
        "        if (iter%print_every) == 0:\n",
        "            print_loss_avg = print_loss_total/print_every\n",
        "            print_loss_total = 0\n",
        "            print(\"Iterations: %d (%d%%)\\nLoss = %.4f\\n\" %(iter, iter/n_iters*100, print_loss_avg))\n",
        "\n",
        "            if (print_loss_avg <= min_loss):\n",
        "                min_loss = print_loss_avg\n",
        "                torch.save(encoder.state_dict(), \"encoder_bestTrain.pt\")\n",
        "                torch.save(decoder.state_dict(), \"decoder_bestTrain.pt\")\n",
        "\n",
        "        if (iter%plot_every) == 0:\n",
        "            plot_loss_avg = plot_loss_total/plot_every\n",
        "            plot_losses.append(plot_loss_avg)\n",
        "            plot_loss_total = 0\n",
        "\n",
        "        if (iter%val_every) == 0:\n",
        "            val_loss = validate(validation_pairs, encoder, decoder, loss_fxn)\n",
        "            print(\"Validate loss = \", val_loss)\n",
        "            early_stopping(val_loss, encoder, decoder)        \n",
        "            if early_stopping.early_stop:\n",
        "                print(\"Early stopping...\")\n",
        "                break\n",
        "        \n",
        "    torch.save(encoder.state_dict(), \"encoder_final.pt\")\n",
        "    torch.save(decoder.state_dict(), \"decoder_final.pt\")\n",
        "    showPlot(plot_losses)"
      ],
      "execution_count": null,
      "outputs": []
    },
    {
      "cell_type": "code",
      "metadata": {
        "id": "PPk8x4jJWN9C"
      },
      "source": [
        "hidden_size = 512\n",
        "encoder = Encoder(hidden_size).to(device)\n",
        "decoder = AttnDecoder(hidden_size).to(device)"
      ],
      "execution_count": null,
      "outputs": []
    },
    {
      "cell_type": "code",
      "metadata": {
        "colab": {
          "base_uri": "https://localhost:8080/",
          "height": 1000
        },
        "id": "svlEXD3IBkD9",
        "outputId": "7823bb72-5ea9-4e52-f38b-7d9370b5c67f"
      },
      "source": [
        "trainIters(encoder, decoder, n_iters = N_Epochs*train_df.shape[0], print_every = 10000, plot_every = 5000, val_every = 50000)"
      ],
      "execution_count": null,
      "outputs": [
        {
          "output_type": "stream",
          "text": [
            "Iterations: 10000 (3%)\n",
            "Loss = 5.1993\n",
            "\n",
            "Iterations: 20000 (7%)\n",
            "Loss = 4.4842\n",
            "\n",
            "Iterations: 30000 (10%)\n",
            "Loss = 4.1746\n",
            "\n",
            "Iterations: 40000 (14%)\n",
            "Loss = 4.0153\n",
            "\n",
            "Iterations: 50000 (18%)\n",
            "Loss = 3.8777\n",
            "\n",
            "Validate loss =  4.584026336669922\n",
            "Validation loss decreased (inf --> 4.58403).  Saving model ...\n",
            "\n",
            "Iterations: 60000 (21%)\n",
            "Loss = 3.7739\n",
            "\n",
            "Iterations: 70000 (25%)\n",
            "Loss = 3.7603\n",
            "\n",
            "Iterations: 80000 (28%)\n",
            "Loss = 3.6980\n",
            "\n",
            "Iterations: 90000 (32%)\n",
            "Loss = 3.6663\n",
            "\n",
            "Iterations: 100000 (36%)\n",
            "Loss = 3.5575\n",
            "\n",
            "Validate loss =  7.636861801147461\n",
            "EarlyStopping counter: 1 out of 3\n",
            "Iterations: 110000 (39%)\n",
            "Loss = 3.5435\n",
            "\n",
            "Iterations: 120000 (43%)\n",
            "Loss = 3.4372\n",
            "\n",
            "Iterations: 130000 (47%)\n",
            "Loss = 3.3904\n",
            "\n",
            "Iterations: 140000 (50%)\n",
            "Loss = 3.3573\n",
            "\n",
            "Iterations: 150000 (54%)\n",
            "Loss = 3.2812\n",
            "\n",
            "Validate loss =  6.589169502258301\n",
            "EarlyStopping counter: 2 out of 3\n",
            "Iterations: 160000 (57%)\n",
            "Loss = 3.3056\n",
            "\n",
            "Iterations: 170000 (61%)\n",
            "Loss = 3.2915\n",
            "\n",
            "Iterations: 180000 (65%)\n",
            "Loss = 3.2941\n",
            "\n",
            "Iterations: 190000 (68%)\n",
            "Loss = 3.2661\n",
            "\n",
            "Iterations: 200000 (72%)\n",
            "Loss = 3.2453\n",
            "\n",
            "Validate loss =  5.761155128479004\n",
            "EarlyStopping counter: 3 out of 3\n",
            "Early stopping...\n"
          ],
          "name": "stdout"
        },
        {
          "output_type": "display_data",
          "data": {
            "text/plain": [
              "<Figure size 432x288 with 0 Axes>"
            ]
          },
          "metadata": {
            "tags": []
          }
        },
        {
          "output_type": "display_data",
          "data": {
            "image/png": "[encoded data removed]",
            "text/plain": [
              "<Figure size 432x288 with 1 Axes>"
            ]
          },
          "metadata": {
            "tags": [],
            "needs_background": "light"
          }
        }
      ]
    },
    {
      "cell_type": "markdown",
      "metadata": {
        "id": "UJOvbCaWWGyH"
      },
      "source": [
        "# **Evaluation**\n",
        "\n",
        "---\n",
        "\n"
      ]
    },
    {
      "cell_type": "code",
      "metadata": {
        "id": "YfN_tC5Y_bev"
      },
      "source": [
        "def test(test_pairs, encoder, decoder, loss_fxn, max_length = MAX_LENGTH):\n",
        "    with torch.no_grad():\n",
        "        test_loss = 0\n",
        "\n",
        "        for i in range(len(test_pairs)):\n",
        "            input_tensor = test_pairs[i][0]\n",
        "            target_tensor = test_pairs[i][1]\n",
        "\n",
        "            input_length = input_tensor.size(0)\n",
        "            target_length = target_tensor.size(0)\n",
        "\n",
        "            encoder_hidden = encoder.initHidden()\n",
        "            encoder_outputs = torch.zeros(max_length, encoder.hidden_size, device = device)\n",
        "\n",
        "            loss = 0\n",
        "            for ei in range(min(input_length, max_length)):\n",
        "                encoder_output, encoder_hidden = encoder(input_tensor[ei], encoder_hidden)\n",
        "                encoder_outputs[ei] = encoder_output[0, 0]\n",
        "\n",
        "            decoder_input = torch.tensor([[SOS_token]], device = device)\n",
        "            decoder_hidden = encoder_hidden\n",
        "\n",
        "            for di in range(target_length):\n",
        "                decoder_output, decoder_hidden, _ = decoder(decoder_input, decoder_hidden, encoder_outputs)\n",
        "                topv, topi = decoder_output.topk(1)\n",
        "                decoder_input = topi.squeeze().detach()\n",
        "\n",
        "                loss +=  loss_fxn(decoder_output, target_tensor[di])\n",
        "                if decoder_input.item() == EOS_token:\n",
        "                    break\n",
        "                    \n",
        "        test_loss += loss.item()/target_length\n",
        "\n",
        "    return test_loss"
      ],
      "execution_count": null,
      "outputs": []
    },
    {
      "cell_type": "code",
      "metadata": {
        "colab": {
          "base_uri": "https://localhost:8080/"
        },
        "id": "CUEBi7yt_s4B",
        "outputId": "e46585c3-8112-4a3b-bcda-ed7fc026ca9d"
      },
      "source": [
        "test(test_pairs, encoder, decoder, LOSS_FXN)"
      ],
      "execution_count": null,
      "outputs": [
        {
          "output_type": "execute_result",
          "data": {
            "text/plain": [
              "10.036038208007813"
            ]
          },
          "metadata": {
            "tags": []
          },
          "execution_count": 49
        }
      ]
    },
    {
      "cell_type": "code",
      "metadata": {
        "id": "jo4qiySVLo3L"
      },
      "source": [
        "def evaluate(encoder, decoder, sentence, max_length = MAX_LENGTH):\n",
        "    with torch.no_grad():\n",
        "        input_tensor = tensorFromSentence(input_lang, sentence)\n",
        "        input_length = input_tensor.size(0)\n",
        "        encoder_hidden = encoder.initHidden()\n",
        "\n",
        "        encoder_outputs = torch.zeros(max_length, encoder.hidden_size, device = device)\n",
        "\n",
        "        for ei in range(min(input_length, max_length)):\n",
        "            encoder_output, encoder_hidden = encoder(input_tensor[ei], encoder_hidden)\n",
        "            encoder_outputs[ei] = encoder_output[0, 0]\n",
        "\n",
        "        decoder_input = torch.tensor([[SOS_token]], device = device)\n",
        "        decoder_hidden = encoder_hidden\n",
        "\n",
        "        decoded_words = []\n",
        "        for di in range(max_length):\n",
        "            decoder_output, decoder_hidden, decoder_attention = decoder(decoder_input, decoder_hidden, encoder_outputs)\n",
        "            topv, topi = decoder_output.topk(1)\n",
        "            decoder_input = topi.squeeze().detach()\n",
        "            if topi.item() == EOS_token:\n",
        "                break\n",
        "            else:\n",
        "                decoded_words.append(output_lang.index2word[topi.item()])\n",
        "\n",
        "        return decoded_words"
      ],
      "execution_count": null,
      "outputs": []
    },
    {
      "cell_type": "code",
      "metadata": {
        "id": "u2d76fJvLyJI"
      },
      "source": [
        "def evaluateRandomly(encoder, decoder, n = 100):\n",
        "    total_bleu_scores = 0\n",
        "    total_meteor_scores = 0\n",
        "\n",
        "    for i in range(n):\n",
        "        pair = random.choice(pairs)\n",
        "        print('INPUT: ', pair[0])\n",
        "        print('TARGET: ', pair[1])\n",
        "        output_words = evaluate(encoder, decoder, pair[0])\n",
        "        output_sentence = ' '.join(output_words)\n",
        "        print('PRED: ', output_sentence)\n",
        "        total_bleu_scores += sentence_bleu(pair[1].split(\" \"), output_sentence.split(\" \"))\n",
        "        total_meteor_scores += single_meteor_score(pair[1], output_sentence)\n",
        "        print('')\n",
        "\n",
        "    bleu_result = total_bleu_scores/n\n",
        "    meteor_result = total_meteor_scores/n\n",
        "    print(\"\\n\\nbleu score: \",bleu_result)\n",
        "    print(\"meteor score: \",meteor_result)"
      ],
      "execution_count": null,
      "outputs": []
    },
    {
      "cell_type": "code",
      "metadata": {
        "id": "iMvLoCOoLyFh",
        "colab": {
          "base_uri": "https://localhost:8080/"
        },
        "outputId": "3a516328-f4e8-486e-989b-4c9b072e9885"
      },
      "source": [
        "evaluateRandomly(encoder, decoder, n = 10)"
      ],
      "execution_count": null,
      "outputs": [
        {
          "output_type": "stream",
          "text": [
            "INPUT:  लेकिन यह मेरे दिमाग में अप्रमाणित है.\n",
            "TARGET:  But this is unproven in my mind.\n",
            "PRED:  But this is a very important part of me .\n",
            "\n",
            "INPUT:  जब आप कोबरा कमांडर को खोजने के लिए.\n",
            "TARGET:  For when you find Cobra Commander.\n",
            "PRED:  When you find the rest of the old man for you .\n",
            "\n",
            "INPUT:  फिल, वे मेरे क्रेडिट है कार्ड नीचे.\n",
            "TARGET:  Phil, they have my credit card downstairs.\n",
            "PRED:  Phil , they 've got a card 's card .\n",
            "\n",
            "INPUT:  प्रशिक्षण के दौरान, मैं अपने दुश्मन की रणनीति तैयार करेंगे.\n",
            "TARGET:  During training, I will devise the strategy of your enemy.\n",
            "PRED:  For the enemy , I 'll be ready to the the .\n",
            "\n",
            "INPUT:  मैं होगा आप ढीला काटा.\n",
            "TARGET:  I gotta cut you loose.\n",
            "PRED:  I will be able to you .\n",
            "\n",
            "INPUT:  लेकिन मैं चाहूंगा कि आप सिकुड जायें लगभग १००० गुना, उस अनुपात में जहां पर मनुष्य के एक बाल मेरे हाथ जितना बडा हो।\n",
            "TARGET:  But I just need to shrink you by a factor of 1000, to a scale where the diameter of a human hair is as big as my hand.\n",
            "PRED:  But I 'm a important moment to get the to the to the the to the the to the the to the the to the the to the the to the the to the the to the the to the the to the the to the the to the the to the the to the the to the the .\n",
            "\n",
            "INPUT:  औरत [टीवी पर]: रदरफोर्ड उम्रकैद की सजा काट रहा था... ...एक 1968 शूटिंग के लिए.\n",
            "TARGET:  Rutherford was serving a life sentence for a 1968 shooting.\n",
            "PRED:  [ man ON SPEAKERS ] man :\n",
            "\n",
            "INPUT:  -धत !\n",
            "TARGET:  Shit!\n",
            "PRED:  - Damn , no , no , no , no , no , no , no , no , no , no , no , no , no , no , no , no , no , no , no , no , no , no , no , no , no , no , no , no , no , no , no , no , no , no , no , no , no , no , no , no , no , no , no , no , no , no , no , no , no , no , no , no , no , no , no , no , no , no , no , no , no , no , no , no , no , no , no , no , no , no , no , no , no , no , no , no , no , no , no , no , no , no , no , no , no , no , no , no , no , no , no , no , no , no , no , no , no , no , no , no , no , no , no , no , no , no , no , no , no , no , no , no , no , no , no , no , no , no , no , no , no , no , no , no , no , no , no , no , no , no , no , no , no , no , no , no , no , no , no , no , no , no , no , no , no , no , no , no , no , no , no , no , no , no , no , no , no , no , no , no , no , no , no , no , no , no , no , no , no , no , no , no , no , no , no , no , no , no , no , no , no , no , no , no , no , no , no , no , no , no , no , no , no , no , no , no , no , no , no , no , no , no , no , no , no , no , no , no , no , no , no , no , no , no , no , no , no , no , no , no , no , no , no , no , no , no , no , no , no , no , no , no , no , no , no , no , no , no , no , no , no , no , no , no , no , no , no , no , no\n",
            "\n",
            "INPUT:  15 साल के लिए, एंटोन और मैं एक छोटी दिखाने बुलाया थाः\n",
            "TARGET:  For 15 years, Anton and I did a little show called:\n",
            "PRED:  For a year , I had a man to the old man .\n",
            "\n",
            "INPUT:  मैं तीस साल की थी, जब एक फोन कॉल आया मेरे डॉक्टर के कार्यालय से मेरे परीक्षण के परिणाम बताने के लिए ।\n",
            "TARGET:  I was 30 years old, and I received a call from my doctor's office to say my test results were in.\n",
            "PRED:  I was a call for a doctor call to a doctor 's call a year - off - year - old phone .\n",
            "\n",
            "\n",
            "\n",
            "bleu score:  9.062576657159591e-231\n",
            "meteor score:  1.6143063279164909\n"
          ],
          "name": "stdout"
        }
      ]
    },
    {
      "cell_type": "markdown",
      "metadata": {
        "id": "_T33hIoTthTG"
      },
      "source": [
        "# **Submission**\n",
        "\n",
        "---\n",
        "\n"
      ]
    },
    {
      "cell_type": "code",
      "metadata": {
        "id": "aXatBjRvYtAD"
      },
      "source": [
        "test = pd.read_csv(\"test_week2.csv\")"
      ],
      "execution_count": null,
      "outputs": []
    },
    {
      "cell_type": "code",
      "metadata": {
        "id": "KqzeMhxcVFN5"
      },
      "source": [
        "def evaluateTest():\n",
        "    encoder.load_state_dict(torch.load(\"encoder_bestTrain.pt\"))\n",
        "    decoder.load_state_dict(torch.load(\"decoder_bestTrain.pt\"))\n",
        "    file1 = open(\"week2_5.txt\", 'w')\n",
        "    for i, data in test.iterrows():\n",
        "        sentence = data[\"hindi\"]\n",
        "        output_words = evaluate(encoder, decoder, sentence)\n",
        "        output_sentence = ' '.join(output_words)\n",
        "        file1.writelines(output_sentence + \" \\n\")"
      ],
      "execution_count": null,
      "outputs": []
    },
    {
      "cell_type": "code",
      "metadata": {
        "id": "rN_KjB9mnfmK"
      },
      "source": [
        "evaluateTest()"
      ],
      "execution_count": null,
      "outputs": []
    },
    {
      "cell_type": "code",
      "metadata": {
        "id": "-QOXyU9OgrRH",
        "colab": {
          "base_uri": "https://localhost:8080/"
        },
        "outputId": "6d7a32c3-8763-4795-e85f-bf765d20b5e1"
      },
      "source": [
        "file2 = open(\"week2_5.txt\", 'r')\n",
        "ref = file2.readlines()\n",
        "ref[:20]"
      ],
      "execution_count": null,
      "outputs": [
        {
          "output_type": "execute_result",
          "data": {
            "text/plain": [
              "[\"Who knows they 've been a secret to your heart ? \\n\",\n",
              " \"We 're the more likely to get the more . \\n\",\n",
              " 'Then they made me . \\n',\n",
              " '- Yeah , how did we ? \\n',\n",
              " 'No way . \\n',\n",
              " \"And the reason why we 're always having to do this together , the way that the best way of the United States , the way that the United States , the way that the best way you have the story , the more important to the story , the more important to the story , the more important to the more important to the end of the world , the more important to the more than that the planet is not to be able to get to the best way of you . \\n\",\n",
              " \"I 'm never going to be happy to do it . \\n\",\n",
              " \"And we 're going to get a lot of the best to the best of the best ones that we 've done the best of the best way of the planet . \\n\",\n",
              " \"( Laughter ) So we have n't always had the idea that the idea is a true of the idea that the best reason is to have the best of the best of the planet that we have the best of the best of the best of the world that we have to do with the rest of the world . \\n\",\n",
              " \"They shoot 'em ! \\n\",\n",
              " \"I 'd like to give him a few years ago to get used to the first . \\n\",\n",
              " \"( Laughter ) Because the same thing is so interesting to the whole thing that 's it 's about . \\n\",\n",
              " 'He was a one of the one was a one of the one . \\n',\n",
              " 'First is a first day . \\n',\n",
              " 'We need you to take the whole . \\n',\n",
              " 'He was able to get if you get paid for me . \\n',\n",
              " 'So this will be a way of you to reach the last few years . \\n',\n",
              " 'I had a word . \\n',\n",
              " \"There 's a hundred percent for you , there is no way to get back the same . \\n\",\n",
              " 'A curse . \\n']"
            ]
          },
          "metadata": {
            "tags": []
          },
          "execution_count": 62
        }
      ]
    },
    {
      "cell_type": "code",
      "metadata": {
        "id": "VepMHz8YV9qx"
      },
      "source": [
        ""
      ],
      "execution_count": null,
      "outputs": []
    }
  ]
}